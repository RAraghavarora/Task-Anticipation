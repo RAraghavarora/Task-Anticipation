{
 "cells": [
  {
   "cell_type": "code",
   "execution_count": 1,
   "metadata": {},
   "outputs": [],
   "source": [
    "from keyconfig import palm_api\n",
    "import pprint\n",
    "import google.generativeai as palm\n",
    "import random\n",
    "palm.configure(api_key=palm_api)\n"
   ]
  },
  {
   "cell_type": "code",
   "execution_count": 2,
   "metadata": {},
   "outputs": [
    {
     "name": "stdout",
     "output_type": "stream",
     "text": [
      "models/text-bison-001\n"
     ]
    }
   ],
   "source": [
    "models = [m for m in palm.list_models() if 'generateText' in m.supported_generation_methods]\n",
    "model = models[0].name\n",
    "print(model)"
   ]
  },
  {
   "cell_type": "code",
   "execution_count": 136,
   "metadata": {},
   "outputs": [
    {
     "name": "stdout",
     "output_type": "stream",
     "text": [
      "Not working temp =  0.3626092461248551\n",
      "Not working temp =  0.5438619093703919\n",
      "Not working temp =  0.9635955585848148\n",
      "Not working temp =  0.20671079165350958\n",
      "Not working temp =  0.6957957825572355\n",
      "Not working temp =  0.30939743751698157\n",
      "Working temp =  0.555340392511271\n",
      "```\n",
      "Collect dirty dishes\n",
      "Add dishes to dishwasher\n",
      "Run the dishwasher\n",
      "Declutter and organize each room\n",
      "Take vegetables out from refrigerator\n",
      "Collect dirty clothes\n",
      "Vacuum the house\n",
      "Collect dishes from dishwasher\n",
      "Mop the floors\n",
      "Wash and cut vegetables\n",
      "Put away clean dishes\n",
      "Empty the trash\n",
      "Load dirty clothes\n",
      "Run the washing machine\n",
      "Cook vegetables\n",
      "Dry the clothes\n",
      "Serve food\n",
      "Put leftover food in the refrigerator\n",
      "Iron the clothes\n",
      "Fold the clothes\n",
      "Put the clothes in the closet\n",
      "```\n"
     ]
    }
   ],
   "source": [
    "while True:\n",
    "    routine_day_1 = ['Collect dirty dishes', 'Add dishes to dishwasher', 'Run the dishwasher', 'Declutter and organize each room', 'Take vegetables out from refrigerator', 'Collect dirty clothes', 'Vacuum the house', 'Collect dishes from dishwasher', 'Mop the floors', 'Wash and cut vegetables', 'Put away clean dishes', 'Empty the trash', 'Load dirty clothes', 'Run the washing machine', 'Cook vegetables', 'Dry the clothes', 'Serve food', 'Put leftover food in the refrigerator', 'Iron the clothes', 'Fold the clothes', 'Put the clothes in the closet']\n",
    "    routine_day_2 = ['Declutter and organize each room', 'Collect dirty dishes', 'Collect dirty clothes', 'Load dirty clothes', 'Take vegetables out from refrigerator', 'Run the washing machine', 'Vacuum the house', 'Wash and cut vegetables', 'Dry the clothes', 'Iron the clothes', 'Mop the floors', 'Empty the trash', 'Fold the clothes', 'Cook vegetables', 'Add dishes to dishwasher', 'Serve food', 'Put the clothes in the closet', 'Put leftover food in the refrigerator', 'Run the dishwasher', 'Collect dishes from dishwasher', 'Put away clean dishes']\n",
    "\n",
    "    prompt = f'''\n",
    "# Based on previous routine, please predict a possible task sequence for day 3\n",
    "routine_day_1 = {routine_day_1}\n",
    "routine_day_2 = {routine_day_2}\n",
    "# Anticipate a possible routine for day 3\n",
    "routine_day_3 =\n",
    "'''\n",
    "    temp = random.random()\n",
    "    completion = palm.generate_text(\n",
    "        model=model,\n",
    "        prompt=prompt,\n",
    "        temperature=temp,\n",
    "        # The maximum length of the response\n",
    "        max_output_tokens=800,\n",
    "    )\n",
    "\n",
    "    if completion.result:\n",
    "        print(\"Working temp = \", temp)\n",
    "        break\n",
    "    else:\n",
    "        print(\"Not working temp = \", temp)\n",
    "print(completion.result)\n"
   ]
  },
  {
   "cell_type": "code",
   "execution_count": 95,
   "metadata": {},
   "outputs": [
    {
     "data": {
      "text/plain": [
       "\" Anticipate the next task in the sequence: ['Collect dirty dishes', 'Add dishes to dishwasher', 'Run the dishwasher', 'Collect dishes from dishwasher']\""
      ]
     },
     "execution_count": 95,
     "metadata": {},
     "output_type": "execute_result"
    }
   ],
   "source": [
    "prompt"
   ]
  },
  {
   "cell_type": "code",
   "execution_count": 26,
   "metadata": {},
   "outputs": [
    {
     "name": "stdout",
     "output_type": "stream",
     "text": [
      "['Take vegetables out from refrigerator', 'Wash and cut vegetables', 'Cook vegetables', 'Serve food', 'Collect dirty dishes', 'Add dishes to dishwasher', 'Run the dishwasher', 'Collect dishes from dishwasher', 'Dry the clothes', 'Iron the clothes', 'Fold the clothes', 'Put the clothes in the closet', 'Put leftover food in the refrigerator', 'Load dirty clothes', 'Run the washing machine', 'Collect dirty clothes', 'Empty the trash', 'Mop the floors', 'Vacuum the house', 'Declutter and organize each room']\n"
     ]
    }
   ],
   "source": [
    "ordered_tasks = []\n",
    "exec(completion.result)"
   ]
  },
  {
   "cell_type": "code",
   "execution_count": 29,
   "metadata": {},
   "outputs": [
    {
     "name": "stdout",
     "output_type": "stream",
     "text": [
      "['Take vegetables out from refrigerator',\n",
      " 'Wash and cut vegetables',\n",
      " 'Cook vegetables',\n",
      " 'Serve food',\n",
      " 'Collect dirty dishes',\n",
      " 'Add dishes to dishwasher',\n",
      " 'Run the dishwasher',\n",
      " 'Collect dishes from dishwasher',\n",
      " 'Dry the clothes',\n",
      " 'Iron the clothes',\n",
      " 'Fold the clothes',\n",
      " 'Put the clothes in the closet',\n",
      " 'Put leftover food in the refrigerator',\n",
      " 'Load dirty clothes',\n",
      " 'Run the washing machine',\n",
      " 'Collect dirty clothes',\n",
      " 'Empty the trash',\n",
      " 'Mop the floors',\n",
      " 'Vacuum the house',\n",
      " 'Declutter and organize each room']\n"
     ]
    }
   ],
   "source": [
    "import pprint\n",
    "pprint.pprint(ordered_tasks)"
   ]
  },
  {
   "cell_type": "code",
   "execution_count": 139,
   "metadata": {},
   "outputs": [
    {
     "name": "stdout",
     "output_type": "stream",
     "text": [
      "All sequences are in correct order\n"
     ]
    }
   ],
   "source": [
    "sequences = [\n",
    "    [\n",
    "        'Collect dirty clothes',\n",
    "        'Load dirty clothes',\n",
    "        'Run the washing machine',\n",
    "        'Dry the clothes',\n",
    "        'Iron the clothes',\n",
    "        'Fold the clothes',\n",
    "        'Put the clothes in the closet'\n",
    "    ],\n",
    "    [\n",
    "        'Collect dirty dishes',\n",
    "        'Add dishes to dishwasher',\n",
    "        'Run the dishwasher',\n",
    "        'Collect dishes from dishwasher',\n",
    "        'Put away clean dishes'\n",
    "    ],\n",
    "    [\n",
    "        'Take vegetables out from refrigerator',\n",
    "        'Wash and cut vegetables',\n",
    "        'Cook vegetables',\n",
    "        'Serve food',\n",
    "        'Put leftover food in the refrigerator'\n",
    "    ],\n",
    "    [\n",
    "        'Declutter and organize each room',\n",
    "        'Vacuum the house',\n",
    "        'Mop the floors',\n",
    "        'Empty the trash'\n",
    "    ]\n",
    "]\n",
    "\n",
    "def is_sorted(lst):\n",
    "    for i in range(len(lst) - 1):\n",
    "        if lst[i] > lst[i + 1]:\n",
    "            return False\n",
    "    return True\n",
    "\n",
    "\n",
    "ordered_tasks = ['Collect dirty dishes',\n",
    "'Add dishes to dishwasher',\n",
    "'Run the dishwasher',\n",
    "'Declutter and organize each room',\n",
    "'Take vegetables out from refrigerator',\n",
    "'Collect dirty clothes',\n",
    "'Vacuum the house',\n",
    "'Collect dishes from dishwasher',\n",
    "'Mop the floors',\n",
    "'Wash and cut vegetables',\n",
    "'Put away clean dishes',\n",
    "'Empty the trash',\n",
    "'Load dirty clothes',\n",
    "'Run the washing machine',\n",
    "'Cook vegetables',\n",
    "'Dry the clothes',\n",
    "'Serve food',\n",
    "'Put leftover food in the refrigerator',\n",
    "'Iron the clothes',\n",
    "'Fold the clothes',\n",
    "'Put the clothes in the closet',]\n",
    "\n",
    "ordered = True\n",
    "for sequence in sequences:\n",
    "    indices = []\n",
    "    for task in sequence:\n",
    "        indices.append(ordered_tasks.index(task))\n",
    "    if not is_sorted(indices):\n",
    "        ordered = False\n",
    "        print(f'{sequence} is not sorted')\n",
    "\n",
    "if ordered:\n",
    "    print('All sequences are in correct order')"
   ]
  },
  {
   "cell_type": "code",
   "execution_count": 35,
   "metadata": {},
   "outputs": [],
   "source": [
    "import itertools\n",
    "combined_list = list(itertools.chain(*sequences))"
   ]
  },
  {
   "cell_type": "code",
   "execution_count": 58,
   "metadata": {},
   "outputs": [
    {
     "name": "stdout",
     "output_type": "stream",
     "text": [
      "['Collect dishes from dishwasher', 'Put leftover food in the refrigerator', 'Declutter and organize each room', 'Put the clothes in the closet', 'Empty the trash', 'Cook vegetables', 'Add dishes to dishwasher', 'Iron the clothes', 'Fold the clothes', 'Collect dirty dishes', 'Run the washing machine', 'Mop the floors', 'Vacuum the house', 'Serve food', 'Take vegetables out from refrigerator', 'Dry the clothes', 'Collect dirty clothes', 'Load dirty clothes', 'Run the dishwasher', 'Wash and cut vegetables']\n"
     ]
    }
   ],
   "source": [
    "tasks = ['Collect dirty clothes',\n",
    " 'Take vegetables out from refrigerator',\n",
    " 'Wash and cut vegetables',\n",
    " 'Cook vegetables',\n",
    " 'Load dirty clothes',\n",
    " 'Run the washing machine',\n",
    " 'Serve food',\n",
    " 'Collect dirty dishes',\n",
    " 'Add dishes to dishwasher',\n",
    " 'Put leftover food in the refrigerator',\n",
    " 'Dry the clothes',\n",
    " 'Run the dishwasher',\n",
    " 'Declutter and organize each room',\n",
    " 'Iron the clothes',\n",
    " 'Fold the clothes',\n",
    " 'Put the clothes in the closet',\n",
    " 'Collect dishes from dishwasher',\n",
    " 'Vacuum the house',\n",
    " 'Mop the floors',\n",
    " 'Empty the trash']\n",
    "\n",
    "random_order_tasks = random.sample(tasks, len(tasks))\n",
    "print(random_order_tasks)"
   ]
  }
 ],
 "metadata": {
  "kernelspec": {
   "display_name": "habitat",
   "language": "python",
   "name": "python3"
  },
  "language_info": {
   "codemirror_mode": {
    "name": "ipython",
    "version": 3
   },
   "file_extension": ".py",
   "mimetype": "text/x-python",
   "name": "python",
   "nbconvert_exporter": "python",
   "pygments_lexer": "ipython3",
   "version": "3.8.15"
  },
  "orig_nbformat": 4
 },
 "nbformat": 4,
 "nbformat_minor": 2
}
