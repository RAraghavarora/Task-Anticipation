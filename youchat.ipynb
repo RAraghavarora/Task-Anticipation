{
 "cells": [
  {
   "cell_type": "code",
   "execution_count": 3,
   "metadata": {},
   "outputs": [],
   "source": [
    "import requests # import requests for the api call\n",
    "\n",
    "API_KEY = \"X7603DX1Z1934IA46EHP3BIE44N3GIVK73C\" # your api key\n",
    "\n",
    "\n",
    "inputs = '''\n",
    "Anticipate the routine for day 3\n",
    "\n",
    "routine_day_1 = { \n",
    "    '7:00 AM': 'Open Curtains', \n",
    "    '8:00 AM': 'Water the plants', \n",
    "    '9:00 AM': 'Make the bed', \n",
    "    '10:00 AM': 'Prepare food', \n",
    "    '11:00 AM': 'Serve food', \n",
    "    '12:00 PM': 'Vacuum the house', \n",
    "    '1:00 PM': 'Collect dirty clothes', \n",
    "    '2:00 PM': 'Prepare food', \n",
    "    '3:00 PM': 'Serve food', \n",
    "    '4:00 PM': 'Load dirty clothes', \n",
    "    '5:00 PM': 'Run the washing machine', \n",
    "    '6:00 PM': 'Dry the clothes', \n",
    "    '7:00 PM': 'Take out the trash', \n",
    "    '8:00 PM': 'Prepare food', \n",
    "    '9:00 PM': 'Serve food', \n",
    "    '10:00 PM': 'Put leftover food in the fridge' \n",
    "}\n",
    "routine_day_2 = {\n",
    "    '7:00 AM': 'Prepare food',\n",
    "    '8:00 AM': 'Serve food',\n",
    "    '9:00 AM': 'Open Curtains',\n",
    "    '10:00 AM': 'Make the bed',\n",
    "    '11:00 AM': 'Water the plants',\n",
    "    '12:00 PM': 'Prepare food',\n",
    "    '1:00 PM': 'Serve food',\n",
    "    '2:00 PM': 'Collect dirty clothes',\n",
    "    '3:00 PM': 'Load dirty clothes',\n",
    "    '4:00 PM': 'Run the washing machine',\n",
    "    '5:00 PM': 'Vacuum the house',\n",
    "    '6:00 PM': 'Dry the clothes',\n",
    "    '7:00 PM': 'Take out the trash',\n",
    "    '8:00 PM': 'Prepare food',\n",
    "    '9:00 PM': 'Serve food',\n",
    "    '10:00 PM': 'Put leftover food in the fridge'\n",
    "}\n",
    "'''\n",
    "\n",
    "url = \"https://api.betterapi.net/youchat?inputs=\" + inputs + \"&key=\" + API_KEY # set api url\n",
    "json = requests.get(url).json() # load json form api\n",
    "print(json[\"generated_text\"]) # print message response\n"
   ]
  }
 ],
 "metadata": {
  "kernelspec": {
   "display_name": "habitat",
   "language": "python",
   "name": "python3"
  },
  "language_info": {
   "codemirror_mode": {
    "name": "ipython",
    "version": 3
   },
   "file_extension": ".py",
   "mimetype": "text/x-python",
   "name": "python",
   "nbconvert_exporter": "python",
   "pygments_lexer": "ipython3",
   "version": "3.8.15"
  },
  "orig_nbformat": 4
 },
 "nbformat": 4,
 "nbformat_minor": 2
}
